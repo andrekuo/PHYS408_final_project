{
 "cells": [
  {
   "cell_type": "code",
   "execution_count": 1,
   "metadata": {},
   "outputs": [],
   "source": [
    "%load_ext autoreload\n",
    "%autoreload 2"
   ]
  },
  {
   "cell_type": "code",
   "execution_count": 2,
   "metadata": {},
   "outputs": [
    {
     "name": "stderr",
     "output_type": "stream",
     "text": [
      "09:17PM 46s CRITICAL [_qt_message_handler]: line: 0, func: None(), file: None  WARNING: Could not create pixmap from c:\\users\n",
      "ndrekuo\\qiskit-metal\\qiskit_metal\\_gui\\styles\\metal_dark\\rc\\transparent.png\n",
      "\n"
     ]
    }
   ],
   "source": [
    "from qiskit_metal import draw, Dict, designs, MetalGUI\n",
    "from qiskit_metal.toolbox_metal import math_and_overrides\n",
    "from qiskit_metal.qlibrary.core import QComponent\n",
    "import qiskit_metal as metal\n",
    "\n",
    "from qiskit_metal.qlibrary.terminations.launchpad_wb import LaunchpadWirebond\n",
    "from qiskit_metal.qlibrary.terminations.short_to_ground import ShortToGround\n",
    "from qiskit_metal.qlibrary.tlines.straight_path import RouteStraight\n",
    "from qiskit_metal.qlibrary.tlines.anchored_path import RouteAnchors\n",
    "from qiskit_metal.qlibrary.tlines.mixed_path import RouteMixed\n",
    "from qiskit_metal.qlibrary.qubits.transmon_cross import TransmonCross\n",
    "from qiskit_metal.qlibrary.tlines.meandered import RouteMeander\n",
    "from qiskit_metal.qlibrary.terminations.open_to_ground import OpenToGround\n",
    "from qiskit_metal.qlibrary.couplers.coupled_line_tee import CoupledLineTee\n",
    "from qiskit_metal.qlibrary.couplers.cap_n_interdigital_tee import CapNInterdigitalTee\n",
    "from qiskit_metal.qlibrary.couplers.line_tee import LineTee\n",
    "\n",
    "from collections import OrderedDict\n",
    "\n",
    "import numpy as np"
   ]
  },
  {
   "cell_type": "code",
   "execution_count": 3,
   "metadata": {},
   "outputs": [],
   "source": [
    "design = metal.designs.design_planar.DesignPlanar()\n",
    "gui = metal.MetalGUI(design)\n",
    "design.overwrite_enabled = True\n",
    "\n",
    "cpw_width = \"30um\"\n",
    "cpw_gap = \"15um\""
   ]
  },
  {
   "cell_type": "code",
   "execution_count": 4,
   "metadata": {},
   "outputs": [],
   "source": [
    "options = Dict(\n",
    "    orientation = -90,\n",
    "    pos_y = 2.5 - 0.3,\n",
    "    trace_width = cpw_width,\n",
    "    trace_gap = cpw_gap\n",
    ")\n",
    "wb1 = LaunchpadWirebond(design, 'wb_top', options=options)\n",
    "\n",
    "options = Dict(\n",
    "    orientation = 90,\n",
    "    pos_y = -2.5 + 0.3,\n",
    "    trace_width = cpw_width,\n",
    "    trace_gap = cpw_gap\n",
    ")\n",
    "wb2 = LaunchpadWirebond(design, 'wb_bottom', options=options)\n",
    "\n",
    "options = Dict(\n",
    "    pin_inputs = Dict(\n",
    "        start_pin = Dict(component = \"wb_top\", pin = \"tie\"),\n",
    "        end_pin = Dict(component = \"wb_bottom\", pin = \"tie\")\n",
    "    ),\n",
    "    trace_width = cpw_width,\n",
    "    trace_gap = cpw_gap\n",
    ")\n",
    "feedline = RouteStraight(design, 'feedline', options=options)"
   ]
  },
  {
   "cell_type": "code",
   "execution_count": 5,
   "metadata": {},
   "outputs": [
    {
     "data": {
      "text/plain": [
       "{'prime_width': '10um',\n",
       " 'prime_gap': '6um',\n",
       " 'second_width': '10um',\n",
       " 'second_gap': '6um',\n",
       " 'coupling_space': '3um',\n",
       " 'coupling_length': '100um',\n",
       " 'down_length': '100um',\n",
       " 'fillet': '25um',\n",
       " 'mirror': False,\n",
       " 'open_termination': True}"
      ]
     },
     "execution_count": 5,
     "metadata": {},
     "output_type": "execute_result"
    }
   ],
   "source": [
    "CoupledLineTee.default_options"
   ]
  },
  {
   "cell_type": "code",
   "execution_count": 6,
   "metadata": {},
   "outputs": [],
   "source": [
    "options = Dict(\n",
    "    orientation = \"90\",\n",
    "    open_termination = True,\n",
    "    coupling_length = \"500um\",\n",
    "    prime_width = cpw_width,\n",
    "    prime_gap = cpw_gap,\n",
    "    second_width = cpw_width,\n",
    "    second_gap = cpw_gap,\n",
    "    fillet = \"99.9um\",\n",
    "    down_length = \"150um\"\n",
    ")\n",
    "clt1 = CoupledLineTee(design, \"clt1\", options=options)\n",
    "\n",
    "options = Dict(\n",
    "    pos_x = \"1500um\",\n",
    "    pos_y = \"250um\"\n",
    ")\n",
    "otg1 = OpenToGround(design, \"otg1\", options=options)\n",
    "\n",
    "options = Dict(\n",
    "    pin_inputs = Dict(\n",
    "        start_pin = Dict(component = \"clt1\", pin = \"second_end\"),\n",
    "        end_pin = Dict(component = \"otg1\", pin = \"open\")\n",
    "    ),\n",
    "    total_length = \"4300um\",\n",
    "    fillet = \"99.9um\",\n",
    "    trace_width = cpw_width,\n",
    "    trace_gap = cpw_gap,\n",
    "    lead = Dict(\n",
    "        start_straight = \"100um\"\n",
    "    )\n",
    ")\n",
    "cpw1 = RouteMeander(design, \"cpw1\", options=options)\n",
    "\n",
    "options = Dict(\n",
    "    pos_x = \"3000um\",\n",
    "    pos_y = \"250um\",\n",
    "    finger_count = 3,\n",
    "    prime_width = cpw_width,\n",
    "    prime_gap = cpw_gap,\n",
    "    second_width = cpw_width,\n",
    "    second_gap = cpw_gap,\n",
    ")\n",
    "ncap1 = CapNInterdigitalTee(design, \"ncap1\", options=options)\n",
    "\n",
    "options = Dict(\n",
    "    pos_x = \"1500um\",\n",
    "    pos_y = \"250um\",\n",
    "    orientation = \"180\"\n",
    ")\n",
    "otg2 = OpenToGround(design, \"otg2\", options=options)\n",
    "\n",
    "options = Dict(\n",
    "    pin_inputs = Dict(\n",
    "        start_pin = Dict(component = \"otg2\", pin = \"open\"),\n",
    "        end_pin = Dict(component = \"otg1\", pin = \"open\")\n",
    "    ),\n",
    "    total_length = \"4300um\",\n",
    "    fillet = \"99.9um\",\n",
    "    trace_width = cpw_width,\n",
    "    trace_gap = cpw_gap,\n",
    "    lead = Dict(\n",
    "        start_straight = \"100um\"\n",
    "    )\n",
    ")\n",
    "# cpw2 = RouteMeander(design, \"cpw2\", options=options)"
   ]
  },
  {
   "cell_type": "code",
   "execution_count": 7,
   "metadata": {},
   "outputs": [],
   "source": [
    "gui.rebuild()\n",
    "gui.autoscale()"
   ]
  },
  {
   "cell_type": "code",
   "execution_count": null,
   "metadata": {},
   "outputs": [],
   "source": []
  }
 ],
 "metadata": {
  "kernelspec": {
   "display_name": "qiskit_metal",
   "language": "python",
   "name": "python3"
  },
  "language_info": {
   "codemirror_mode": {
    "name": "ipython",
    "version": 3
   },
   "file_extension": ".py",
   "mimetype": "text/x-python",
   "name": "python",
   "nbconvert_exporter": "python",
   "pygments_lexer": "ipython3",
   "version": "3.11.6"
  }
 },
 "nbformat": 4,
 "nbformat_minor": 2
}
